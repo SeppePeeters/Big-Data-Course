{
 "cells": [
  {
   "cell_type": "code",
   "execution_count": 2,
   "metadata": {
    "colab": {},
    "colab_type": "code",
    "executionInfo": {
     "elapsed": 1410,
     "status": "ok",
     "timestamp": 1596731113844,
     "user": {
      "displayName": "Muhammad Navaid",
      "photoUrl": "",
      "userId": "10469917802715538287"
     },
     "user_tz": -300
    },
    "id": "nomkRX_DfvjX"
   },
   "outputs": [
    {
     "name": "stderr",
     "output_type": "stream",
     "text": [
      "Using TensorFlow backend.\n"
     ]
    }
   ],
   "source": [
    "import keras\n",
    "from keras.preprocessing.image import ImageDataGenerator\n",
    "from keras import layers\n",
    "from keras import models\n",
    "from keras.applications import VGG16, Xception\n",
    "import matplotlib.pyplot as plt"
   ]
  },
  {
   "cell_type": "code",
   "execution_count": 2,
   "metadata": {
    "colab": {},
    "colab_type": "code",
    "executionInfo": {
     "elapsed": 1409,
     "status": "ok",
     "timestamp": 1596731113853,
     "user": {
      "displayName": "Muhammad Navaid",
      "photoUrl": "",
      "userId": "10469917802715538287"
     },
     "user_tz": -300
    },
    "id": "uKMBOXL7kcnc"
   },
   "outputs": [],
   "source": [
    "data_dir='/content/drive/My Drive/Colab Notebooks/seppepeeters/car_classification/'\n",
    "train_dir = 'train'\n",
    "validation_dir = 'test'"
   ]
  },
  {
   "cell_type": "code",
   "execution_count": 3,
   "metadata": {
    "colab": {},
    "colab_type": "code",
    "executionInfo": {
     "elapsed": 1404,
     "status": "ok",
     "timestamp": 1596731113857,
     "user": {
      "displayName": "Muhammad Navaid",
      "photoUrl": "",
      "userId": "10469917802715538287"
     },
     "user_tz": -300
    },
    "id": "IkAYzh2RkVuD"
   },
   "outputs": [],
   "source": [
    "def draw_training_info(_history):\n",
    "    \n",
    "    acc = _history.history['acc']\n",
    "    val_acc = _history.history['val_acc']\n",
    "    loss = _history.history['loss']\n",
    "    val_loss = _history.history['val_loss']\n",
    "\n",
    "    epochs_plot = range(1, len(acc) + 1)\n",
    "    plt.plot(epochs_plot, acc, 'bo', label='Training acc')\n",
    "    plt.plot(epochs_plot, val_acc, 'b', label='Validation acc')\n",
    "    plt.title('Training and validation accuracy')\n",
    "    plt.xlabel('epoch')\n",
    "    plt.ylabel('accuracy')\n",
    "    plt.legend()\n",
    "    plt.figure()\n",
    "\n",
    "    plt.plot(epochs_plot, loss, 'bo', label='Training loss')\n",
    "    plt.plot(epochs_plot, val_loss, 'b', label='Validation loss')\n",
    "    plt.title('Training and validation loss')\n",
    "    plt.xlabel('epoch')\n",
    "    plt.ylabel('loss')\n",
    "    plt.legend()\n",
    "    plt.show()\n",
    "    return"
   ]
  },
  {
   "cell_type": "code",
   "execution_count": 4,
   "metadata": {
    "colab": {},
    "colab_type": "code",
    "executionInfo": {
     "elapsed": 1399,
     "status": "ok",
     "timestamp": 1596731113860,
     "user": {
      "displayName": "Muhammad Navaid",
      "photoUrl": "",
      "userId": "10469917802715538287"
     },
     "user_tz": -300
    },
    "id": "7sLJW5M7kXiW"
   },
   "outputs": [],
   "source": [
    "def print_model_info(_conv_base, _model):\n",
    "    \n",
    "    print('CONV_BASE.SUMMARY:')\n",
    "    _conv_base.summary()\n",
    "\n",
    "    print('CONV_BASE LAYERS INFO:')\n",
    "    for layer in _conv_base.layers:\n",
    "        print(layer, layer.trainable)\n",
    "\n",
    "    print('MODEL.SUMMARY:')\n",
    "    _model.summary()\n",
    "    return"
   ]
  },
  {
   "cell_type": "code",
   "execution_count": 5,
   "metadata": {
    "colab": {},
    "colab_type": "code",
    "executionInfo": {
     "elapsed": 1387,
     "status": "ok",
     "timestamp": 1596731113862,
     "user": {
      "displayName": "Muhammad Navaid",
      "photoUrl": "",
      "userId": "10469917802715538287"
     },
     "user_tz": -300
    },
    "id": "FFjYUBi6kZ_M"
   },
   "outputs": [],
   "source": [
    "def get_xception_fine_tune_model(_input_shape, _num_classes):\n",
    "    \n",
    "    _conv_base = Xception(weights='imagenet', include_top=False, input_shape=_input_shape)\n",
    "    _conv_base.trainable = True\n",
    "\n",
    "    for _i, _layer in enumerate(_conv_base.layers):\n",
    "        if _i < 115:\n",
    "            _layer.trainable = False\n",
    "        else:\n",
    "            _layer.trainable = True\n",
    "\n",
    "    _model = models.Sequential()\n",
    "    _model.add(_conv_base)\n",
    "\n",
    "    _model.add(layers.GlobalAveragePooling2D())\n",
    "    _model.add(layers.Dense(_num_classes, activation='softmax'))\n",
    "\n",
    "    print_model_info(_conv_base, _model)\n",
    "    return _model"
   ]
  },
  {
   "cell_type": "code",
   "execution_count": 6,
   "metadata": {
    "colab": {},
    "colab_type": "code",
    "executionInfo": {
     "elapsed": 1379,
     "status": "ok",
     "timestamp": 1596731113863,
     "user": {
      "displayName": "Muhammad Navaid",
      "photoUrl": "",
      "userId": "10469917802715538287"
     },
     "user_tz": -300
    },
    "id": "ziyZYtlSkfI0"
   },
   "outputs": [],
   "source": [
    "input_shape = (256, 256, 3)\n",
    "target_size = (256, 256)\n",
    "batch_size = 256\n",
    "lr = 0.0001\n",
    "epochs = 20"
   ]
  },
  {
   "cell_type": "code",
   "execution_count": 7,
   "metadata": {
    "colab": {},
    "colab_type": "code",
    "executionInfo": {
     "elapsed": 1368,
     "status": "ok",
     "timestamp": 1596731113864,
     "user": {
      "displayName": "Muhammad Navaid",
      "photoUrl": "",
      "userId": "10469917802715538287"
     },
     "user_tz": -300
    },
    "id": "POTGSC4vkg-0"
   },
   "outputs": [],
   "source": [
    "train_datagen = ImageDataGenerator(  # Расширяем тренировочные данные.\n",
    "    rescale=1. / 255,\n",
    "    rotation_range=40,\n",
    "    width_shift_range=0.2,\n",
    "    height_shift_range=0.2,\n",
    "    shear_range=0.2,\n",
    "    zoom_range=0.2,\n",
    "    horizontal_flip=True,\n",
    "    fill_mode='nearest'\n",
    ")"
   ]
  },
  {
   "cell_type": "code",
   "execution_count": 8,
   "metadata": {
    "colab": {
     "base_uri": "https://localhost:8080/",
     "height": 34
    },
    "colab_type": "code",
    "executionInfo": {
     "elapsed": 1834,
     "status": "ok",
     "timestamp": 1596731114344,
     "user": {
      "displayName": "Muhammad Navaid",
      "photoUrl": "",
      "userId": "10469917802715538287"
     },
     "user_tz": -300
    },
    "id": "73goXuiykilM",
    "outputId": "bf464379-9a21-40d4-d079-70f3a78b2406"
   },
   "outputs": [
    {
     "name": "stdout",
     "output_type": "stream",
     "text": [
      "Found 8144 images belonging to 196 classes.\n"
     ]
    }
   ],
   "source": [
    "train_generator = train_datagen.flow_from_directory(\n",
    "    train_dir,\n",
    "    target_size=target_size,\n",
    "    batch_size=batch_size,\n",
    "    class_mode='categorical'\n",
    ")"
   ]
  },
  {
   "cell_type": "code",
   "execution_count": 9,
   "metadata": {
    "colab": {},
    "colab_type": "code",
    "executionInfo": {
     "elapsed": 1824,
     "status": "ok",
     "timestamp": 1596731114345,
     "user": {
      "displayName": "Muhammad Navaid",
      "photoUrl": "",
      "userId": "10469917802715538287"
     },
     "user_tz": -300
    },
    "id": "DCKnhXeMkkus"
   },
   "outputs": [],
   "source": [
    "num_classes = train_generator.num_classes"
   ]
  },
  {
   "cell_type": "code",
   "execution_count": 10,
   "metadata": {
    "colab": {},
    "colab_type": "code",
    "executionInfo": {
     "elapsed": 1807,
     "status": "ok",
     "timestamp": 1596731114347,
     "user": {
      "displayName": "Muhammad Navaid",
      "photoUrl": "",
      "userId": "10469917802715538287"
     },
     "user_tz": -300
    },
    "id": "5PjcOWlxkm5h"
   },
   "outputs": [],
   "source": [
    "validation_datagen = ImageDataGenerator(rescale=1. / 255)"
   ]
  },
  {
   "cell_type": "code",
   "execution_count": 11,
   "metadata": {
    "colab": {
     "base_uri": "https://localhost:8080/",
     "height": 34
    },
    "colab_type": "code",
    "executionInfo": {
     "elapsed": 13629,
     "status": "ok",
     "timestamp": 1596731126181,
     "user": {
      "displayName": "Muhammad Navaid",
      "photoUrl": "",
      "userId": "10469917802715538287"
     },
     "user_tz": -300
    },
    "id": "DJGTyVIlkoQ9",
    "outputId": "1232aa52-6179-4b88-c19f-6e435c9a651f"
   },
   "outputs": [
    {
     "name": "stdout",
     "output_type": "stream",
     "text": [
      "Found 8041 images belonging to 196 classes.\n"
     ]
    }
   ],
   "source": [
    "validation_generator = validation_datagen.flow_from_directory(\n",
    "    validation_dir,\n",
    "    target_size=target_size,\n",
    "    batch_size=batch_size,\n",
    "    class_mode='categorical'\n",
    ")"
   ]
  },
  {
   "cell_type": "code",
   "execution_count": 12,
   "metadata": {
    "colab": {
     "base_uri": "https://localhost:8080/",
     "height": 1000
    },
    "colab_type": "code",
    "executionInfo": {
     "elapsed": 21816,
     "status": "ok",
     "timestamp": 1596731134381,
     "user": {
      "displayName": "Muhammad Navaid",
      "photoUrl": "",
      "userId": "10469917802715538287"
     },
     "user_tz": -300
    },
    "id": "eU7ep7nxkqP3",
    "outputId": "75076460-c5c1-4907-a958-0328ac8852c3"
   },
   "outputs": [
    {
     "name": "stdout",
     "output_type": "stream",
     "text": [
      "CONV_BASE.SUMMARY:\n",
      "Model: \"xception\"\n",
      "__________________________________________________________________________________________________\n",
      "Layer (type)                    Output Shape         Param #     Connected to                     \n",
      "==================================================================================================\n",
      "input_1 (InputLayer)            (None, 256, 256, 3)  0                                            \n",
      "__________________________________________________________________________________________________\n",
      "block1_conv1 (Conv2D)           (None, 127, 127, 32) 864         input_1[0][0]                    \n",
      "__________________________________________________________________________________________________\n",
      "block1_conv1_bn (BatchNormaliza (None, 127, 127, 32) 128         block1_conv1[0][0]               \n",
      "__________________________________________________________________________________________________\n",
      "block1_conv1_act (Activation)   (None, 127, 127, 32) 0           block1_conv1_bn[0][0]            \n",
      "__________________________________________________________________________________________________\n",
      "block1_conv2 (Conv2D)           (None, 125, 125, 64) 18432       block1_conv1_act[0][0]           \n",
      "__________________________________________________________________________________________________\n",
      "block1_conv2_bn (BatchNormaliza (None, 125, 125, 64) 256         block1_conv2[0][0]               \n",
      "__________________________________________________________________________________________________\n",
      "block1_conv2_act (Activation)   (None, 125, 125, 64) 0           block1_conv2_bn[0][0]            \n",
      "__________________________________________________________________________________________________\n",
      "block2_sepconv1 (SeparableConv2 (None, 125, 125, 128 8768        block1_conv2_act[0][0]           \n",
      "__________________________________________________________________________________________________\n",
      "block2_sepconv1_bn (BatchNormal (None, 125, 125, 128 512         block2_sepconv1[0][0]            \n",
      "__________________________________________________________________________________________________\n",
      "block2_sepconv2_act (Activation (None, 125, 125, 128 0           block2_sepconv1_bn[0][0]         \n",
      "__________________________________________________________________________________________________\n",
      "block2_sepconv2 (SeparableConv2 (None, 125, 125, 128 17536       block2_sepconv2_act[0][0]        \n",
      "__________________________________________________________________________________________________\n",
      "block2_sepconv2_bn (BatchNormal (None, 125, 125, 128 512         block2_sepconv2[0][0]            \n",
      "__________________________________________________________________________________________________\n",
      "conv2d_1 (Conv2D)               (None, 63, 63, 128)  8192        block1_conv2_act[0][0]           \n",
      "__________________________________________________________________________________________________\n",
      "block2_pool (MaxPooling2D)      (None, 63, 63, 128)  0           block2_sepconv2_bn[0][0]         \n",
      "__________________________________________________________________________________________________\n",
      "batch_normalization_1 (BatchNor (None, 63, 63, 128)  512         conv2d_1[0][0]                   \n",
      "__________________________________________________________________________________________________\n",
      "add_1 (Add)                     (None, 63, 63, 128)  0           block2_pool[0][0]                \n",
      "                                                                 batch_normalization_1[0][0]      \n",
      "__________________________________________________________________________________________________\n",
      "block3_sepconv1_act (Activation (None, 63, 63, 128)  0           add_1[0][0]                      \n",
      "__________________________________________________________________________________________________\n",
      "block3_sepconv1 (SeparableConv2 (None, 63, 63, 256)  33920       block3_sepconv1_act[0][0]        \n",
      "__________________________________________________________________________________________________\n",
      "block3_sepconv1_bn (BatchNormal (None, 63, 63, 256)  1024        block3_sepconv1[0][0]            \n",
      "__________________________________________________________________________________________________\n",
      "block3_sepconv2_act (Activation (None, 63, 63, 256)  0           block3_sepconv1_bn[0][0]         \n",
      "__________________________________________________________________________________________________\n",
      "block3_sepconv2 (SeparableConv2 (None, 63, 63, 256)  67840       block3_sepconv2_act[0][0]        \n",
      "__________________________________________________________________________________________________\n",
      "block3_sepconv2_bn (BatchNormal (None, 63, 63, 256)  1024        block3_sepconv2[0][0]            \n",
      "__________________________________________________________________________________________________\n",
      "conv2d_2 (Conv2D)               (None, 32, 32, 256)  32768       add_1[0][0]                      \n",
      "__________________________________________________________________________________________________\n",
      "block3_pool (MaxPooling2D)      (None, 32, 32, 256)  0           block3_sepconv2_bn[0][0]         \n",
      "__________________________________________________________________________________________________\n",
      "batch_normalization_2 (BatchNor (None, 32, 32, 256)  1024        conv2d_2[0][0]                   \n",
      "__________________________________________________________________________________________________\n",
      "add_2 (Add)                     (None, 32, 32, 256)  0           block3_pool[0][0]                \n",
      "                                                                 batch_normalization_2[0][0]      \n",
      "__________________________________________________________________________________________________\n",
      "block4_sepconv1_act (Activation (None, 32, 32, 256)  0           add_2[0][0]                      \n",
      "__________________________________________________________________________________________________\n",
      "block4_sepconv1 (SeparableConv2 (None, 32, 32, 728)  188672      block4_sepconv1_act[0][0]        \n",
      "__________________________________________________________________________________________________\n",
      "block4_sepconv1_bn (BatchNormal (None, 32, 32, 728)  2912        block4_sepconv1[0][0]            \n",
      "__________________________________________________________________________________________________\n",
      "block4_sepconv2_act (Activation (None, 32, 32, 728)  0           block4_sepconv1_bn[0][0]         \n",
      "__________________________________________________________________________________________________\n",
      "block4_sepconv2 (SeparableConv2 (None, 32, 32, 728)  536536      block4_sepconv2_act[0][0]        \n",
      "__________________________________________________________________________________________________\n",
      "block4_sepconv2_bn (BatchNormal (None, 32, 32, 728)  2912        block4_sepconv2[0][0]            \n",
      "__________________________________________________________________________________________________\n",
      "conv2d_3 (Conv2D)               (None, 16, 16, 728)  186368      add_2[0][0]                      \n",
      "__________________________________________________________________________________________________\n",
      "block4_pool (MaxPooling2D)      (None, 16, 16, 728)  0           block4_sepconv2_bn[0][0]         \n",
      "__________________________________________________________________________________________________\n",
      "batch_normalization_3 (BatchNor (None, 16, 16, 728)  2912        conv2d_3[0][0]                   \n",
      "__________________________________________________________________________________________________\n",
      "add_3 (Add)                     (None, 16, 16, 728)  0           block4_pool[0][0]                \n",
      "                                                                 batch_normalization_3[0][0]      \n",
      "__________________________________________________________________________________________________\n",
      "block5_sepconv1_act (Activation (None, 16, 16, 728)  0           add_3[0][0]                      \n",
      "__________________________________________________________________________________________________\n",
      "block5_sepconv1 (SeparableConv2 (None, 16, 16, 728)  536536      block5_sepconv1_act[0][0]        \n",
      "__________________________________________________________________________________________________\n",
      "block5_sepconv1_bn (BatchNormal (None, 16, 16, 728)  2912        block5_sepconv1[0][0]            \n",
      "__________________________________________________________________________________________________\n",
      "block5_sepconv2_act (Activation (None, 16, 16, 728)  0           block5_sepconv1_bn[0][0]         \n",
      "__________________________________________________________________________________________________\n",
      "block5_sepconv2 (SeparableConv2 (None, 16, 16, 728)  536536      block5_sepconv2_act[0][0]        \n",
      "__________________________________________________________________________________________________\n",
      "block5_sepconv2_bn (BatchNormal (None, 16, 16, 728)  2912        block5_sepconv2[0][0]            \n",
      "__________________________________________________________________________________________________\n",
      "block5_sepconv3_act (Activation (None, 16, 16, 728)  0           block5_sepconv2_bn[0][0]         \n",
      "__________________________________________________________________________________________________\n",
      "block5_sepconv3 (SeparableConv2 (None, 16, 16, 728)  536536      block5_sepconv3_act[0][0]        \n",
      "__________________________________________________________________________________________________\n",
      "block5_sepconv3_bn (BatchNormal (None, 16, 16, 728)  2912        block5_sepconv3[0][0]            \n",
      "__________________________________________________________________________________________________\n",
      "add_4 (Add)                     (None, 16, 16, 728)  0           block5_sepconv3_bn[0][0]         \n",
      "                                                                 add_3[0][0]                      \n",
      "__________________________________________________________________________________________________\n",
      "block6_sepconv1_act (Activation (None, 16, 16, 728)  0           add_4[0][0]                      \n",
      "__________________________________________________________________________________________________\n",
      "block6_sepconv1 (SeparableConv2 (None, 16, 16, 728)  536536      block6_sepconv1_act[0][0]        \n",
      "__________________________________________________________________________________________________\n",
      "block6_sepconv1_bn (BatchNormal (None, 16, 16, 728)  2912        block6_sepconv1[0][0]            \n",
      "__________________________________________________________________________________________________\n",
      "block6_sepconv2_act (Activation (None, 16, 16, 728)  0           block6_sepconv1_bn[0][0]         \n",
      "__________________________________________________________________________________________________\n",
      "block6_sepconv2 (SeparableConv2 (None, 16, 16, 728)  536536      block6_sepconv2_act[0][0]        \n",
      "__________________________________________________________________________________________________\n",
      "block6_sepconv2_bn (BatchNormal (None, 16, 16, 728)  2912        block6_sepconv2[0][0]            \n",
      "__________________________________________________________________________________________________\n",
      "block6_sepconv3_act (Activation (None, 16, 16, 728)  0           block6_sepconv2_bn[0][0]         \n",
      "__________________________________________________________________________________________________\n",
      "block6_sepconv3 (SeparableConv2 (None, 16, 16, 728)  536536      block6_sepconv3_act[0][0]        \n",
      "__________________________________________________________________________________________________\n",
      "block6_sepconv3_bn (BatchNormal (None, 16, 16, 728)  2912        block6_sepconv3[0][0]            \n",
      "__________________________________________________________________________________________________\n",
      "add_5 (Add)                     (None, 16, 16, 728)  0           block6_sepconv3_bn[0][0]         \n",
      "                                                                 add_4[0][0]                      \n",
      "__________________________________________________________________________________________________\n",
      "block7_sepconv1_act (Activation (None, 16, 16, 728)  0           add_5[0][0]                      \n",
      "__________________________________________________________________________________________________\n",
      "block7_sepconv1 (SeparableConv2 (None, 16, 16, 728)  536536      block7_sepconv1_act[0][0]        \n",
      "__________________________________________________________________________________________________\n",
      "block7_sepconv1_bn (BatchNormal (None, 16, 16, 728)  2912        block7_sepconv1[0][0]            \n",
      "__________________________________________________________________________________________________\n",
      "block7_sepconv2_act (Activation (None, 16, 16, 728)  0           block7_sepconv1_bn[0][0]         \n",
      "__________________________________________________________________________________________________\n",
      "block7_sepconv2 (SeparableConv2 (None, 16, 16, 728)  536536      block7_sepconv2_act[0][0]        \n",
      "__________________________________________________________________________________________________\n",
      "block7_sepconv2_bn (BatchNormal (None, 16, 16, 728)  2912        block7_sepconv2[0][0]            \n",
      "__________________________________________________________________________________________________\n",
      "block7_sepconv3_act (Activation (None, 16, 16, 728)  0           block7_sepconv2_bn[0][0]         \n",
      "__________________________________________________________________________________________________\n",
      "block7_sepconv3 (SeparableConv2 (None, 16, 16, 728)  536536      block7_sepconv3_act[0][0]        \n",
      "__________________________________________________________________________________________________\n",
      "block7_sepconv3_bn (BatchNormal (None, 16, 16, 728)  2912        block7_sepconv3[0][0]            \n",
      "__________________________________________________________________________________________________\n",
      "add_6 (Add)                     (None, 16, 16, 728)  0           block7_sepconv3_bn[0][0]         \n",
      "                                                                 add_5[0][0]                      \n",
      "__________________________________________________________________________________________________\n",
      "block8_sepconv1_act (Activation (None, 16, 16, 728)  0           add_6[0][0]                      \n",
      "__________________________________________________________________________________________________\n",
      "block8_sepconv1 (SeparableConv2 (None, 16, 16, 728)  536536      block8_sepconv1_act[0][0]        \n",
      "__________________________________________________________________________________________________\n",
      "block8_sepconv1_bn (BatchNormal (None, 16, 16, 728)  2912        block8_sepconv1[0][0]            \n",
      "__________________________________________________________________________________________________\n",
      "block8_sepconv2_act (Activation (None, 16, 16, 728)  0           block8_sepconv1_bn[0][0]         \n",
      "__________________________________________________________________________________________________\n",
      "block8_sepconv2 (SeparableConv2 (None, 16, 16, 728)  536536      block8_sepconv2_act[0][0]        \n",
      "__________________________________________________________________________________________________\n",
      "block8_sepconv2_bn (BatchNormal (None, 16, 16, 728)  2912        block8_sepconv2[0][0]            \n",
      "__________________________________________________________________________________________________\n",
      "block8_sepconv3_act (Activation (None, 16, 16, 728)  0           block8_sepconv2_bn[0][0]         \n",
      "__________________________________________________________________________________________________\n",
      "block8_sepconv3 (SeparableConv2 (None, 16, 16, 728)  536536      block8_sepconv3_act[0][0]        \n",
      "__________________________________________________________________________________________________\n",
      "block8_sepconv3_bn (BatchNormal (None, 16, 16, 728)  2912        block8_sepconv3[0][0]            \n",
      "__________________________________________________________________________________________________\n",
      "add_7 (Add)                     (None, 16, 16, 728)  0           block8_sepconv3_bn[0][0]         \n",
      "                                                                 add_6[0][0]                      \n",
      "__________________________________________________________________________________________________\n",
      "block9_sepconv1_act (Activation (None, 16, 16, 728)  0           add_7[0][0]                      \n",
      "__________________________________________________________________________________________________\n",
      "block9_sepconv1 (SeparableConv2 (None, 16, 16, 728)  536536      block9_sepconv1_act[0][0]        \n",
      "__________________________________________________________________________________________________\n",
      "block9_sepconv1_bn (BatchNormal (None, 16, 16, 728)  2912        block9_sepconv1[0][0]            \n",
      "__________________________________________________________________________________________________\n",
      "block9_sepconv2_act (Activation (None, 16, 16, 728)  0           block9_sepconv1_bn[0][0]         \n",
      "__________________________________________________________________________________________________\n",
      "block9_sepconv2 (SeparableConv2 (None, 16, 16, 728)  536536      block9_sepconv2_act[0][0]        \n",
      "__________________________________________________________________________________________________\n",
      "block9_sepconv2_bn (BatchNormal (None, 16, 16, 728)  2912        block9_sepconv2[0][0]            \n",
      "__________________________________________________________________________________________________\n",
      "block9_sepconv3_act (Activation (None, 16, 16, 728)  0           block9_sepconv2_bn[0][0]         \n",
      "__________________________________________________________________________________________________\n",
      "block9_sepconv3 (SeparableConv2 (None, 16, 16, 728)  536536      block9_sepconv3_act[0][0]        \n",
      "__________________________________________________________________________________________________\n",
      "block9_sepconv3_bn (BatchNormal (None, 16, 16, 728)  2912        block9_sepconv3[0][0]            \n",
      "__________________________________________________________________________________________________\n",
      "add_8 (Add)                     (None, 16, 16, 728)  0           block9_sepconv3_bn[0][0]         \n",
      "                                                                 add_7[0][0]                      \n",
      "__________________________________________________________________________________________________\n",
      "block10_sepconv1_act (Activatio (None, 16, 16, 728)  0           add_8[0][0]                      \n",
      "__________________________________________________________________________________________________\n",
      "block10_sepconv1 (SeparableConv (None, 16, 16, 728)  536536      block10_sepconv1_act[0][0]       \n",
      "__________________________________________________________________________________________________\n",
      "block10_sepconv1_bn (BatchNorma (None, 16, 16, 728)  2912        block10_sepconv1[0][0]           \n",
      "__________________________________________________________________________________________________\n",
      "block10_sepconv2_act (Activatio (None, 16, 16, 728)  0           block10_sepconv1_bn[0][0]        \n",
      "__________________________________________________________________________________________________\n",
      "block10_sepconv2 (SeparableConv (None, 16, 16, 728)  536536      block10_sepconv2_act[0][0]       \n",
      "__________________________________________________________________________________________________\n",
      "block10_sepconv2_bn (BatchNorma (None, 16, 16, 728)  2912        block10_sepconv2[0][0]           \n",
      "__________________________________________________________________________________________________\n",
      "block10_sepconv3_act (Activatio (None, 16, 16, 728)  0           block10_sepconv2_bn[0][0]        \n",
      "__________________________________________________________________________________________________\n",
      "block10_sepconv3 (SeparableConv (None, 16, 16, 728)  536536      block10_sepconv3_act[0][0]       \n",
      "__________________________________________________________________________________________________\n",
      "block10_sepconv3_bn (BatchNorma (None, 16, 16, 728)  2912        block10_sepconv3[0][0]           \n",
      "__________________________________________________________________________________________________\n",
      "add_9 (Add)                     (None, 16, 16, 728)  0           block10_sepconv3_bn[0][0]        \n",
      "                                                                 add_8[0][0]                      \n",
      "__________________________________________________________________________________________________\n",
      "block11_sepconv1_act (Activatio (None, 16, 16, 728)  0           add_9[0][0]                      \n",
      "__________________________________________________________________________________________________\n",
      "block11_sepconv1 (SeparableConv (None, 16, 16, 728)  536536      block11_sepconv1_act[0][0]       \n",
      "__________________________________________________________________________________________________\n",
      "block11_sepconv1_bn (BatchNorma (None, 16, 16, 728)  2912        block11_sepconv1[0][0]           \n",
      "__________________________________________________________________________________________________\n",
      "block11_sepconv2_act (Activatio (None, 16, 16, 728)  0           block11_sepconv1_bn[0][0]        \n",
      "__________________________________________________________________________________________________\n",
      "block11_sepconv2 (SeparableConv (None, 16, 16, 728)  536536      block11_sepconv2_act[0][0]       \n",
      "__________________________________________________________________________________________________\n",
      "block11_sepconv2_bn (BatchNorma (None, 16, 16, 728)  2912        block11_sepconv2[0][0]           \n",
      "__________________________________________________________________________________________________\n",
      "block11_sepconv3_act (Activatio (None, 16, 16, 728)  0           block11_sepconv2_bn[0][0]        \n",
      "__________________________________________________________________________________________________\n",
      "block11_sepconv3 (SeparableConv (None, 16, 16, 728)  536536      block11_sepconv3_act[0][0]       \n",
      "__________________________________________________________________________________________________\n",
      "block11_sepconv3_bn (BatchNorma (None, 16, 16, 728)  2912        block11_sepconv3[0][0]           \n",
      "__________________________________________________________________________________________________\n",
      "add_10 (Add)                    (None, 16, 16, 728)  0           block11_sepconv3_bn[0][0]        \n",
      "                                                                 add_9[0][0]                      \n",
      "__________________________________________________________________________________________________\n",
      "block12_sepconv1_act (Activatio (None, 16, 16, 728)  0           add_10[0][0]                     \n",
      "__________________________________________________________________________________________________\n",
      "block12_sepconv1 (SeparableConv (None, 16, 16, 728)  536536      block12_sepconv1_act[0][0]       \n",
      "__________________________________________________________________________________________________\n",
      "block12_sepconv1_bn (BatchNorma (None, 16, 16, 728)  2912        block12_sepconv1[0][0]           \n",
      "__________________________________________________________________________________________________\n",
      "block12_sepconv2_act (Activatio (None, 16, 16, 728)  0           block12_sepconv1_bn[0][0]        \n",
      "__________________________________________________________________________________________________\n",
      "block12_sepconv2 (SeparableConv (None, 16, 16, 728)  536536      block12_sepconv2_act[0][0]       \n",
      "__________________________________________________________________________________________________\n",
      "block12_sepconv2_bn (BatchNorma (None, 16, 16, 728)  2912        block12_sepconv2[0][0]           \n",
      "__________________________________________________________________________________________________\n",
      "block12_sepconv3_act (Activatio (None, 16, 16, 728)  0           block12_sepconv2_bn[0][0]        \n",
      "__________________________________________________________________________________________________\n",
      "block12_sepconv3 (SeparableConv (None, 16, 16, 728)  536536      block12_sepconv3_act[0][0]       \n",
      "__________________________________________________________________________________________________\n",
      "block12_sepconv3_bn (BatchNorma (None, 16, 16, 728)  2912        block12_sepconv3[0][0]           \n",
      "__________________________________________________________________________________________________\n",
      "add_11 (Add)                    (None, 16, 16, 728)  0           block12_sepconv3_bn[0][0]        \n",
      "                                                                 add_10[0][0]                     \n",
      "__________________________________________________________________________________________________\n",
      "block13_sepconv1_act (Activatio (None, 16, 16, 728)  0           add_11[0][0]                     \n",
      "__________________________________________________________________________________________________\n",
      "block13_sepconv1 (SeparableConv (None, 16, 16, 728)  536536      block13_sepconv1_act[0][0]       \n",
      "__________________________________________________________________________________________________\n",
      "block13_sepconv1_bn (BatchNorma (None, 16, 16, 728)  2912        block13_sepconv1[0][0]           \n",
      "__________________________________________________________________________________________________\n",
      "block13_sepconv2_act (Activatio (None, 16, 16, 728)  0           block13_sepconv1_bn[0][0]        \n",
      "__________________________________________________________________________________________________\n",
      "block13_sepconv2 (SeparableConv (None, 16, 16, 1024) 752024      block13_sepconv2_act[0][0]       \n",
      "__________________________________________________________________________________________________\n",
      "block13_sepconv2_bn (BatchNorma (None, 16, 16, 1024) 4096        block13_sepconv2[0][0]           \n",
      "__________________________________________________________________________________________________\n",
      "conv2d_4 (Conv2D)               (None, 8, 8, 1024)   745472      add_11[0][0]                     \n",
      "__________________________________________________________________________________________________\n",
      "block13_pool (MaxPooling2D)     (None, 8, 8, 1024)   0           block13_sepconv2_bn[0][0]        \n",
      "__________________________________________________________________________________________________\n",
      "batch_normalization_4 (BatchNor (None, 8, 8, 1024)   4096        conv2d_4[0][0]                   \n",
      "__________________________________________________________________________________________________\n",
      "add_12 (Add)                    (None, 8, 8, 1024)   0           block13_pool[0][0]               \n",
      "                                                                 batch_normalization_4[0][0]      \n",
      "__________________________________________________________________________________________________\n",
      "block14_sepconv1 (SeparableConv (None, 8, 8, 1536)   1582080     add_12[0][0]                     \n",
      "__________________________________________________________________________________________________\n",
      "block14_sepconv1_bn (BatchNorma (None, 8, 8, 1536)   6144        block14_sepconv1[0][0]           \n",
      "__________________________________________________________________________________________________\n",
      "block14_sepconv1_act (Activatio (None, 8, 8, 1536)   0           block14_sepconv1_bn[0][0]        \n",
      "__________________________________________________________________________________________________\n",
      "block14_sepconv2 (SeparableConv (None, 8, 8, 2048)   3159552     block14_sepconv1_act[0][0]       \n",
      "__________________________________________________________________________________________________\n",
      "block14_sepconv2_bn (BatchNorma (None, 8, 8, 2048)   8192        block14_sepconv2[0][0]           \n",
      "__________________________________________________________________________________________________\n",
      "block14_sepconv2_act (Activatio (None, 8, 8, 2048)   0           block14_sepconv2_bn[0][0]        \n",
      "==================================================================================================\n",
      "Total params: 20,861,480\n",
      "Trainable params: 6,788,384\n",
      "Non-trainable params: 14,073,096\n",
      "__________________________________________________________________________________________________\n",
      "CONV_BASE LAYERS INFO:\n",
      "<keras.engine.input_layer.InputLayer object at 0x000002804ACD1E50> False\n",
      "<keras.layers.convolutional.Conv2D object at 0x000002804ACD19D0> False\n",
      "<keras.layers.normalization.BatchNormalization object at 0x000002804ACD1B20> False\n",
      "<keras.layers.core.Activation object at 0x000002805EAA8760> False\n",
      "<keras.layers.convolutional.Conv2D object at 0x000002805E72EE20> False\n",
      "<keras.layers.normalization.BatchNormalization object at 0x000002805EB5FD60> False\n",
      "<keras.layers.core.Activation object at 0x000002805EACDB80> False\n",
      "<keras.layers.convolutional.SeparableConv2D object at 0x000002805EBD9280> False\n",
      "<keras.layers.normalization.BatchNormalization object at 0x000002805E72E5E0> False\n",
      "<keras.layers.core.Activation object at 0x0000028064ECFE50> False\n",
      "<keras.layers.convolutional.SeparableConv2D object at 0x0000028064EDEFA0> False\n",
      "<keras.layers.normalization.BatchNormalization object at 0x000002805EBE7940> False\n",
      "<keras.layers.convolutional.Conv2D object at 0x000002805EBD1EB0> False\n",
      "<keras.layers.pooling.MaxPooling2D object at 0x0000028064E9A5E0> False\n",
      "<keras.layers.normalization.BatchNormalization object at 0x000002805E72E490> False\n",
      "<keras.layers.merge.Add object at 0x0000028064E9A700> False\n",
      "<keras.layers.core.Activation object at 0x0000028064EEF9A0> False\n",
      "<keras.layers.convolutional.SeparableConv2D object at 0x0000028064EEFB80> False\n",
      "<keras.layers.normalization.BatchNormalization object at 0x000002806518C4F0> False\n",
      "<keras.layers.core.Activation object at 0x00000280653288E0> False\n",
      "<keras.layers.convolutional.SeparableConv2D object at 0x00000280652F8460> False\n",
      "<keras.layers.normalization.BatchNormalization object at 0x0000028065359820> False\n",
      "<keras.layers.convolutional.Conv2D object at 0x0000028064EEF340> False\n",
      "<keras.layers.pooling.MaxPooling2D object at 0x000002806538E250> False\n",
      "<keras.layers.normalization.BatchNormalization object at 0x0000028065175790> False\n",
      "<keras.layers.merge.Add object at 0x00000280653127C0> False\n",
      "<keras.layers.core.Activation object at 0x00000280654C42E0> False\n",
      "<keras.layers.convolutional.SeparableConv2D object at 0x000002806551AEE0> False\n",
      "<keras.layers.normalization.BatchNormalization object at 0x000002806536B8E0> False\n",
      "<keras.layers.core.Activation object at 0x000002806555CFA0> False\n",
      "<keras.layers.convolutional.SeparableConv2D object at 0x000002804DF1AB20> False\n",
      "<keras.layers.normalization.BatchNormalization object at 0x000002806535CE20> False\n",
      "<keras.layers.convolutional.Conv2D object at 0x000002806535CE80> False\n",
      "<keras.layers.pooling.MaxPooling2D object at 0x0000028066578D00> False\n",
      "<keras.layers.normalization.BatchNormalization object at 0x000002806535C070> False\n",
      "<keras.layers.merge.Add object at 0x0000028066588940> False\n",
      "<keras.layers.core.Activation object at 0x00000280665789A0> False\n",
      "<keras.layers.convolutional.SeparableConv2D object at 0x0000028066572A90> False\n",
      "<keras.layers.normalization.BatchNormalization object at 0x00000280665729A0> False\n",
      "<keras.layers.core.Activation object at 0x0000028066572910> False\n",
      "<keras.layers.convolutional.SeparableConv2D object at 0x00000280665D84F0> False\n",
      "<keras.layers.normalization.BatchNormalization object at 0x00000280665C2940> False\n",
      "<keras.layers.core.Activation object at 0x00000280665FAE20> False\n",
      "<keras.layers.convolutional.SeparableConv2D object at 0x00000280665C2BB0> False\n",
      "<keras.layers.normalization.BatchNormalization object at 0x0000028066654850> False\n",
      "<keras.layers.merge.Add object at 0x00000280666115E0> False\n",
      "<keras.layers.core.Activation object at 0x0000028066611F10> False\n",
      "<keras.layers.convolutional.SeparableConv2D object at 0x0000028066666CA0> False\n",
      "<keras.layers.normalization.BatchNormalization object at 0x000002806667B7C0> False\n",
      "<keras.layers.core.Activation object at 0x00000280666668B0> False\n",
      "<keras.layers.convolutional.SeparableConv2D object at 0x0000028066666C70> False\n",
      "<keras.layers.normalization.BatchNormalization object at 0x00000280666B65E0> False\n",
      "<keras.layers.core.Activation object at 0x00000280666CDF70> False\n",
      "<keras.layers.convolutional.SeparableConv2D object at 0x00000280666FB100> False\n",
      "<keras.layers.normalization.BatchNormalization object at 0x0000028066752370> False\n",
      "<keras.layers.merge.Add object at 0x000002806676EDC0> False\n",
      "<keras.layers.core.Activation object at 0x000002806670AA60> False\n",
      "<keras.layers.convolutional.SeparableConv2D object at 0x0000028066759A00> False\n",
      "<keras.layers.normalization.BatchNormalization object at 0x00000280667B7820> False\n",
      "<keras.layers.core.Activation object at 0x00000280667E7EE0> False\n",
      "<keras.layers.convolutional.SeparableConv2D object at 0x0000028066759FA0> False\n",
      "<keras.layers.normalization.BatchNormalization object at 0x00000280667B2D30> False\n",
      "<keras.layers.core.Activation object at 0x00000280667FFF40> False\n",
      "<keras.layers.convolutional.SeparableConv2D object at 0x00000280667B2BE0> False\n",
      "<keras.layers.normalization.BatchNormalization object at 0x00000280668303D0> False\n",
      "<keras.layers.merge.Add object at 0x000002806688FEB0> False\n",
      "<keras.layers.core.Activation object at 0x000002806680BBB0> False\n",
      "<keras.layers.convolutional.SeparableConv2D object at 0x000002806689A0D0> False\n",
      "<keras.layers.normalization.BatchNormalization object at 0x000002806689A5E0> False\n",
      "<keras.layers.core.Activation object at 0x00000280668A62B0> False\n",
      "<keras.layers.convolutional.SeparableConv2D object at 0x0000028066856FA0> False\n",
      "<keras.layers.normalization.BatchNormalization object at 0x00000280668BCEB0> False\n",
      "<keras.layers.core.Activation object at 0x00000280668B01C0> False\n",
      "<keras.layers.convolutional.SeparableConv2D object at 0x00000280668BCDF0> False\n",
      "<keras.layers.normalization.BatchNormalization object at 0x0000028066939B80> False\n",
      "<keras.layers.merge.Add object at 0x000002806694CEB0> False\n",
      "<keras.layers.core.Activation object at 0x00000280668FAE20> False\n",
      "<keras.layers.convolutional.SeparableConv2D object at 0x000002806697A3D0> False\n",
      "<keras.layers.normalization.BatchNormalization object at 0x00000280669AC8B0> False\n",
      "<keras.layers.core.Activation object at 0x0000028066957BB0> False\n",
      "<keras.layers.convolutional.SeparableConv2D object at 0x000002806694C100> False\n",
      "<keras.layers.normalization.BatchNormalization object at 0x000002806699FA90> False\n",
      "<keras.layers.core.Activation object at 0x00000280669EEE50> False\n",
      "<keras.layers.convolutional.SeparableConv2D object at 0x000002806699FC70> False\n",
      "<keras.layers.normalization.BatchNormalization object at 0x0000028066C6E4C0> False\n",
      "<keras.layers.merge.Add object at 0x0000028066CCEFD0> False\n",
      "<keras.layers.core.Activation object at 0x0000028066C49C10> False\n",
      "<keras.layers.convolutional.SeparableConv2D object at 0x0000028066CD5B80> False\n",
      "<keras.layers.normalization.BatchNormalization object at 0x0000028066CD56D0> False\n",
      "<keras.layers.core.Activation object at 0x0000028066CE5BE0> False\n",
      "<keras.layers.convolutional.SeparableConv2D object at 0x0000028066C93E20> False\n",
      "<keras.layers.normalization.BatchNormalization object at 0x0000028066CFAD60> False\n",
      "<keras.layers.core.Activation object at 0x0000028066D57190> False\n",
      "<keras.layers.convolutional.SeparableConv2D object at 0x0000028066CEE460> False\n",
      "<keras.layers.normalization.BatchNormalization object at 0x0000028066D7ADF0> False\n",
      "<keras.layers.merge.Add object at 0x0000028066DB9520> False\n",
      "<keras.layers.core.Activation object at 0x0000028066D89370> False\n",
      "<keras.layers.convolutional.SeparableConv2D object at 0x0000028066D9FF10> False\n",
      "<keras.layers.normalization.BatchNormalization object at 0x0000028066DE9970> False\n",
      "<keras.layers.core.Activation object at 0x0000028066DF55B0> False\n",
      "<keras.layers.convolutional.SeparableConv2D object at 0x0000028066D95190> False\n",
      "<keras.layers.normalization.BatchNormalization object at 0x0000028067AE6EE0> False\n",
      "<keras.layers.core.Activation object at 0x0000028066E2D220> False\n",
      "<keras.layers.convolutional.SeparableConv2D object at 0x0000028066DE0CA0> False\n",
      "<keras.layers.normalization.BatchNormalization object at 0x0000028066E3B730> False\n",
      "<keras.layers.merge.Add object at 0x0000028066E3B520> False\n",
      "<keras.layers.core.Activation object at 0x0000028067B47E20> False\n",
      "<keras.layers.convolutional.SeparableConv2D object at 0x0000028067B23A00> False\n",
      "<keras.layers.normalization.BatchNormalization object at 0x0000028067B23A30> False\n",
      "<keras.layers.core.Activation object at 0x0000028067BA5550> False\n",
      "<keras.layers.convolutional.SeparableConv2D object at 0x0000028067B8AF40> False\n",
      "<keras.layers.normalization.BatchNormalization object at 0x0000028067B23250> False\n",
      "<keras.layers.core.Activation object at 0x0000028067B7E220> False\n",
      "<keras.layers.convolutional.SeparableConv2D object at 0x0000028067BEDE80> False\n",
      "<keras.layers.normalization.BatchNormalization object at 0x0000028067C2FEE0> False\n",
      "<keras.layers.merge.Add object at 0x0000028067C19400> True\n",
      "<keras.layers.core.Activation object at 0x0000028067C61460> True\n",
      "<keras.layers.convolutional.SeparableConv2D object at 0x0000028067CAF2E0> True\n",
      "<keras.layers.normalization.BatchNormalization object at 0x0000028067C59B20> True\n",
      "<keras.layers.core.Activation object at 0x0000028067C23A90> True\n",
      "<keras.layers.convolutional.SeparableConv2D object at 0x0000028067C70D00> True\n",
      "<keras.layers.normalization.BatchNormalization object at 0x0000028067CC0400> True\n",
      "<keras.layers.convolutional.Conv2D object at 0x0000028067BC8A90> True\n",
      "<keras.layers.pooling.MaxPooling2D object at 0x0000028067CC0820> True\n",
      "<keras.layers.normalization.BatchNormalization object at 0x0000028067C23730> True\n",
      "<keras.layers.merge.Add object at 0x000002806A87C310> True\n",
      "<keras.layers.convolutional.SeparableConv2D object at 0x000002806A84DC70> True\n",
      "<keras.layers.normalization.BatchNormalization object at 0x000002806A84D4F0> True\n",
      "<keras.layers.core.Activation object at 0x000002806A84D970> True\n",
      "<keras.layers.convolutional.SeparableConv2D object at 0x000002806A8549A0> True\n",
      "<keras.layers.normalization.BatchNormalization object at 0x000002806A8DAFD0> True\n",
      "<keras.layers.core.Activation object at 0x000002806A922520> True\n",
      "MODEL.SUMMARY:\n",
      "Model: \"sequential_1\"\n",
      "_________________________________________________________________\n",
      "Layer (type)                 Output Shape              Param #   \n",
      "=================================================================\n",
      "xception (Model)             (None, 8, 8, 2048)        20861480  \n",
      "_________________________________________________________________\n",
      "global_average_pooling2d_1 ( (None, 2048)              0         \n",
      "_________________________________________________________________\n",
      "dense_1 (Dense)              (None, 196)               401604    \n",
      "=================================================================\n",
      "Total params: 21,263,084\n",
      "Trainable params: 7,189,988\n",
      "Non-trainable params: 14,073,096\n",
      "_________________________________________________________________\n"
     ]
    }
   ],
   "source": [
    "model = get_xception_fine_tune_model(input_shape, num_classes)"
   ]
  },
  {
   "cell_type": "code",
   "execution_count": 13,
   "metadata": {
    "colab": {},
    "colab_type": "code",
    "executionInfo": {
     "elapsed": 21808,
     "status": "ok",
     "timestamp": 1596731134384,
     "user": {
      "displayName": "Muhammad Navaid",
      "photoUrl": "",
      "userId": "10469917802715538287"
     },
     "user_tz": -300
    },
    "id": "OmdvQp-okr21"
   },
   "outputs": [],
   "source": [
    "model.compile(loss='categorical_crossentropy',\n",
    "              optimizer=keras.optimizers.RMSprop(lr=lr),\n",
    "              metrics=['accuracy'])"
   ]
  },
  {
   "cell_type": "code",
   "execution_count": 14,
   "metadata": {
    "colab": {
     "base_uri": "https://localhost:8080/",
     "height": 122
    },
    "colab_type": "code",
    "id": "SYgre00ukt2M",
    "outputId": "98969808-5ea3-4753-c3d9-14dfd3a66ac3"
   },
   "outputs": [
    {
     "name": "stdout",
     "output_type": "stream",
     "text": [
      "Epoch 1/20\n",
      "31/31 [==============================] - 3048s 98s/step - loss: 5.2317 - accuracy: 0.0143 - val_loss: 5.0914 - val_accuracy: 0.0289\n",
      "Epoch 2/20\n",
      "31/31 [==============================] - 2998s 97s/step - loss: 4.9829 - accuracy: 0.0562 - val_loss: 4.7810 - val_accuracy: 0.0545\n",
      "Epoch 3/20\n",
      "31/31 [==============================] - 3005s 97s/step - loss: 4.6814 - accuracy: 0.1073 - val_loss: 4.3185 - val_accuracy: 0.0989\n",
      "Epoch 4/20\n",
      "31/31 [==============================] - 2999s 97s/step - loss: 4.3786 - accuracy: 0.1738 - val_loss: 4.0356 - val_accuracy: 0.1318\n",
      "Epoch 5/20\n",
      "31/31 [==============================] - 3024s 98s/step - loss: 4.0882 - accuracy: 0.2292 - val_loss: 3.7329 - val_accuracy: 0.1498\n",
      "Epoch 6/20\n",
      "31/31 [==============================] - 3020s 97s/step - loss: 3.8185 - accuracy: 0.2819 - val_loss: 3.6067 - val_accuracy: 0.1737\n",
      "Epoch 7/20\n",
      "31/31 [==============================] - 2996s 97s/step - loss: 3.5572 - accuracy: 0.3380 - val_loss: 3.4638 - val_accuracy: 0.1991\n",
      "Epoch 8/20\n",
      "31/31 [==============================] - 3004s 97s/step - loss: 3.3162 - accuracy: 0.3803 - val_loss: 3.2100 - val_accuracy: 0.2279\n",
      "Epoch 9/20\n",
      "31/31 [==============================] - 3007s 97s/step - loss: 3.0968 - accuracy: 0.4210 - val_loss: 3.2440 - val_accuracy: 0.2510\n",
      "Epoch 10/20\n",
      "31/31 [==============================] - 3001s 97s/step - loss: 2.8871 - accuracy: 0.4583 - val_loss: 2.9652 - val_accuracy: 0.2981\n",
      "Epoch 11/20\n",
      "31/31 [==============================] - 3013s 97s/step - loss: 2.6843 - accuracy: 0.5021 - val_loss: 2.8513 - val_accuracy: 0.3182\n",
      "Epoch 12/20\n",
      "31/31 [==============================] - 3013s 97s/step - loss: 2.5318 - accuracy: 0.5283 - val_loss: 3.0061 - val_accuracy: 0.3556\n",
      "Epoch 13/20\n",
      "31/31 [==============================] - 3005s 97s/step - loss: 2.3486 - accuracy: 0.5599 - val_loss: 2.6485 - val_accuracy: 0.3741\n",
      "Epoch 14/20\n",
      "31/31 [==============================] - 3011s 97s/step - loss: 2.2021 - accuracy: 0.5838 - val_loss: 2.4955 - val_accuracy: 0.3825\n",
      "Epoch 15/20\n",
      "31/31 [==============================] - 3027s 98s/step - loss: 2.0454 - accuracy: 0.6171 - val_loss: 2.6398 - val_accuracy: 0.4036\n",
      "Epoch 16/20\n",
      "31/31 [==============================] - 3007s 97s/step - loss: 1.9303 - accuracy: 0.6358 - val_loss: 2.4568 - val_accuracy: 0.4457\n",
      "Epoch 17/20\n",
      "31/31 [==============================] - 3038s 98s/step - loss: 1.8081 - accuracy: 0.6643 - val_loss: 2.2859 - val_accuracy: 0.4550\n",
      "Epoch 18/20\n",
      "31/31 [==============================] - 3029s 98s/step - loss: 1.6934 - accuracy: 0.6795 - val_loss: 2.3771 - val_accuracy: 0.4532\n",
      "Epoch 19/20\n",
      "31/31 [==============================] - 3027s 98s/step - loss: 1.5725 - accuracy: 0.7096 - val_loss: 2.2817 - val_accuracy: 0.4690\n",
      "Epoch 20/20\n",
      "31/31 [==============================] - 3009s 97s/step - loss: 1.5008 - accuracy: 0.7190 - val_loss: 2.3400 - val_accuracy: 0.4965\n"
     ]
    }
   ],
   "source": [
    "train_steps = len(train_generator.filenames) // batch_size\n",
    "validation_steps = len(validation_generator.filenames) // batch_size\n",
    "history = model.fit_generator(\n",
    "    train_generator,\n",
    "    steps_per_epoch=train_steps,\n",
    "    epochs=epochs,\n",
    "    validation_data=validation_generator,\n",
    "    validation_steps=validation_steps\n",
    ")"
   ]
  },
  {
   "cell_type": "code",
   "execution_count": 16,
   "metadata": {
    "colab": {},
    "colab_type": "code",
    "id": "Cf2WvpHlkv_t"
   },
   "outputs": [],
   "source": [
    "model.save('fine_tune_xception.h5')"
   ]
  },
  {
   "cell_type": "code",
   "execution_count": 3,
   "metadata": {
    "colab": {},
    "colab_type": "code",
    "id": "HtwchjLhkzAm"
   },
   "outputs": [
    {
     "ename": "NameError",
     "evalue": "name 'model' is not defined",
     "output_type": "error",
     "traceback": [
      "\u001b[1;31m---------------------------------------------------------------------------\u001b[0m",
      "\u001b[1;31mNameError\u001b[0m                                 Traceback (most recent call last)",
      "\u001b[1;32m<ipython-input-3-df0dc600625f>\u001b[0m in \u001b[0;36m<module>\u001b[1;34m\u001b[0m\n\u001b[1;32m----> 1\u001b[1;33m \u001b[0mvalidation_score\u001b[0m \u001b[1;33m=\u001b[0m \u001b[0mmodel\u001b[0m\u001b[1;33m.\u001b[0m\u001b[0mevaluate_generator\u001b[0m\u001b[1;33m(\u001b[0m\u001b[0mvalidation_generator\u001b[0m\u001b[1;33m,\u001b[0m \u001b[0msteps\u001b[0m\u001b[1;33m=\u001b[0m\u001b[0mvalidation_steps\u001b[0m\u001b[1;33m)\u001b[0m\u001b[1;33m\u001b[0m\u001b[1;33m\u001b[0m\u001b[0m\n\u001b[0m\u001b[0;32m      2\u001b[0m \u001b[0mprint\u001b[0m\u001b[1;33m(\u001b[0m\u001b[1;34m'Validation loss: '\u001b[0m\u001b[1;33m,\u001b[0m \u001b[0mvalidation_score\u001b[0m\u001b[1;33m[\u001b[0m\u001b[1;36m0\u001b[0m\u001b[1;33m]\u001b[0m\u001b[1;33m)\u001b[0m\u001b[1;33m\u001b[0m\u001b[1;33m\u001b[0m\u001b[0m\n\u001b[0;32m      3\u001b[0m \u001b[0mprint\u001b[0m\u001b[1;33m(\u001b[0m\u001b[1;34m'Validation acc:  '\u001b[0m\u001b[1;33m,\u001b[0m \u001b[0mvalidation_score\u001b[0m\u001b[1;33m[\u001b[0m\u001b[1;36m1\u001b[0m\u001b[1;33m]\u001b[0m\u001b[1;33m)\u001b[0m\u001b[1;33m\u001b[0m\u001b[1;33m\u001b[0m\u001b[0m\n",
      "\u001b[1;31mNameError\u001b[0m: name 'model' is not defined"
     ]
    }
   ],
   "source": [
    "validation_score = model.evaluate_generator(validation_generator, steps=validation_steps)\n",
    "print('Validation loss: ', validation_score[0])\n",
    "print('Validation acc:  ', validation_score[1])"
   ]
  },
  {
   "cell_type": "code",
   "execution_count": 22,
   "metadata": {
    "colab": {},
    "colab_type": "code",
    "id": "CyZzinQ7mCk9"
   },
   "outputs": [
    {
     "ename": "NameError",
     "evalue": "name 'np' is not defined",
     "output_type": "error",
     "traceback": [
      "\u001b[1;31m---------------------------------------------------------------------------\u001b[0m",
      "\u001b[1;31mNameError\u001b[0m                                 Traceback (most recent call last)",
      "\u001b[1;32m<ipython-input-22-30727ab4bbe9>\u001b[0m in \u001b[0;36m<module>\u001b[1;34m\u001b[0m\n\u001b[0;32m      9\u001b[0m \u001b[0mimg\u001b[0m \u001b[1;33m=\u001b[0m \u001b[0mimage\u001b[0m\u001b[1;33m.\u001b[0m\u001b[0mload_img\u001b[0m\u001b[1;33m(\u001b[0m\u001b[0mimage_path\u001b[0m\u001b[1;33m,\u001b[0m \u001b[0mtarget_size\u001b[0m\u001b[1;33m=\u001b[0m\u001b[1;33m(\u001b[0m\u001b[0mIMG_SIZE\u001b[0m\u001b[1;33m,\u001b[0m \u001b[0mIMG_SIZE\u001b[0m\u001b[1;33m)\u001b[0m\u001b[1;33m)\u001b[0m\u001b[1;33m\u001b[0m\u001b[1;33m\u001b[0m\u001b[0m\n\u001b[0;32m     10\u001b[0m \u001b[0mplt\u001b[0m\u001b[1;33m.\u001b[0m\u001b[0mimshow\u001b[0m\u001b[1;33m(\u001b[0m\u001b[0mimg\u001b[0m\u001b[1;33m)\u001b[0m\u001b[1;33m\u001b[0m\u001b[1;33m\u001b[0m\u001b[0m\n\u001b[1;32m---> 11\u001b[1;33m \u001b[0mimg\u001b[0m \u001b[1;33m=\u001b[0m \u001b[0mnp\u001b[0m\u001b[1;33m.\u001b[0m\u001b[0mexpand_dims\u001b[0m\u001b[1;33m(\u001b[0m\u001b[0mimg\u001b[0m\u001b[1;33m,\u001b[0m \u001b[0maxis\u001b[0m\u001b[1;33m=\u001b[0m\u001b[1;36m0\u001b[0m\u001b[1;33m)\u001b[0m\u001b[1;33m\u001b[0m\u001b[1;33m\u001b[0m\u001b[0m\n\u001b[0m\u001b[0;32m     12\u001b[0m \u001b[0mresult\u001b[0m\u001b[1;33m=\u001b[0m\u001b[0mloaded_model\u001b[0m\u001b[1;33m.\u001b[0m\u001b[0mpredict\u001b[0m\u001b[1;33m(\u001b[0m\u001b[0mimg\u001b[0m\u001b[1;33m)\u001b[0m\u001b[1;33m\u001b[0m\u001b[1;33m\u001b[0m\u001b[0m\n\u001b[0;32m     13\u001b[0m \u001b[0mplt\u001b[0m\u001b[1;33m.\u001b[0m\u001b[0mtitle\u001b[0m\u001b[1;33m(\u001b[0m\u001b[0mresult\u001b[0m\u001b[1;33m[\u001b[0m\u001b[1;36m0\u001b[0m\u001b[1;33m]\u001b[0m\u001b[1;33m[\u001b[0m\u001b[1;36m0\u001b[0m\u001b[1;33m]\u001b[0m\u001b[1;33m)\u001b[0m\u001b[1;33m\u001b[0m\u001b[1;33m\u001b[0m\u001b[0m\n",
      "\u001b[1;31mNameError\u001b[0m: name 'np' is not defined"
     ]
    },
    {
     "data": {
      "image/png": "[encoded data removed]",
      "text/plain": [
       "<Figure size 432x288 with 1 Axes>"
      ]
     },
     "metadata": {
      "needs_background": "light"
     },
     "output_type": "display_data"
    }
   ],
   "source": [
    "import keras\n",
    "from keras.preprocessing import image\n",
    "\n",
    "IMG_SIZE = 240\n",
    "loaded_model = keras.models.load_model(\"fine_tune_xception.h5\")\n",
    "loaded_model.layers[0].input_shape #(None, 160, 160, 3)\n",
    "\n",
    "image_path= \"hummer.jpg\"\n",
    "img = image.load_img(image_path, target_size=(IMG_SIZE, IMG_SIZE))\n",
    "plt.imshow(img)\n",
    "img = np.expand_dims(img, axis=0)\n",
    "result=loaded_model.predict(img)\n",
    "plt.title(result[0][0])\n",
    "plt.show()"
   ]
  },
  {
   "cell_type": "code",
   "execution_count": null,
   "metadata": {},
   "outputs": [],
   "source": []
  }
 ],
 "metadata": {
  "accelerator": "GPU",
  "colab": {
   "authorship_tag": "ABX9TyOJnRrrfCfkkK+taTmzLeLs",
   "machine_shape": "hm",
   "mount_file_id": "1RHScEJ-Qw6L_r_YDLA7JTUff9c8knpHR",
   "name": "xception.ipynb",
   "provenance": []
  },
  "kernelspec": {
   "display_name": "Python 3",
   "language": "python",
   "name": "python3"
  },
  "language_info": {
   "codemirror_mode": {
    "name": "ipython",
    "version": 3
   },
   "file_extension": ".py",
   "mimetype": "text/x-python",
   "name": "python",
   "nbconvert_exporter": "python",
   "pygments_lexer": "ipython3",
   "version": "3.8.3"
  }
 },
 "nbformat": 4,
 "nbformat_minor": 1
}

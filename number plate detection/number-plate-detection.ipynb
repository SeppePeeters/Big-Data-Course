{
 "cells": [
  {
   "cell_type": "code",
   "execution_count": 1,
   "metadata": {
    "colab": {},
    "colab_type": "code",
    "id": "AKbIQ_K9hYKZ"
   },
   "outputs": [],
   "source": [
    "import os\n",
    "os.environ[\"CUDA_VISIBLE_DEVICES\"] = \"1\""
   ]
  },
  {
   "cell_type": "code",
   "execution_count": 2,
   "metadata": {
    "colab": {
     "base_uri": "https://localhost:8080/",
     "height": 34
    },
    "colab_type": "code",
    "executionInfo": {
     "elapsed": 744,
     "status": "ok",
     "timestamp": 1597350573640,
     "user": {
      "displayName": "Muhammad Navaid",
      "photoUrl": "",
      "userId": "10469917802715538287"
     },
     "user_tz": -300
    },
    "id": "6RcdmiLUcl00",
    "outputId": "93fcc2e2-eae3-44c3-f533-bd46b9139845"
   },
   "outputs": [
    {
     "name": "stderr",
     "output_type": "stream",
     "text": [
      "UsageError: Line magic function `%` not found.\n"
     ]
    }
   ],
   "source": [
    "%"
   ]
  },
  {
   "cell_type": "code",
   "execution_count": 23,
   "metadata": {
    "colab": {
     "base_uri": "https://localhost:8080/",
     "height": 170
    },
    "colab_type": "code",
    "executionInfo": {
     "elapsed": 5237,
     "status": "ok",
     "timestamp": 1597356168130,
     "user": {
      "displayName": "Muhammad Navaid",
      "photoUrl": "",
      "userId": "10469917802715538287"
     },
     "user_tz": -300
    },
    "id": "Y2IbYS-gcQfY",
    "outputId": "c8fb6aa5-436f-4d8b-f872-6b30d1c1c2b7"
   },
   "outputs": [
    {
     "name": "stdout",
     "output_type": "stream",
     "text": [
      "out.shape :  (507, 6)\n",
      "out.shape :  (2028, 6)\n",
      "out.shape :  (8112, 6)\n",
      "0.999819  -  0.9994207  - th :  0.5\n",
      "[0.47263968 0.6639346  0.14552817 0.04960455 0.999819   0.9994207 ]\n",
      "Done processing !!!\n",
      "Output file is stored as  SL-det_yolo_out_py.jpg\n"
     ]
    }
   ],
   "source": [
    "!python object_detection_yolo.py --image=SL-det.jpg"
   ]
  },
  {
   "cell_type": "code",
   "execution_count": 22,
   "metadata": {
    "colab": {
     "base_uri": "https://localhost:8080/",
     "height": 136
    },
    "colab_type": "code",
    "executionInfo": {
     "elapsed": 6761,
     "status": "ok",
     "timestamp": 1597356314862,
     "user": {
      "displayName": "Muhammad Navaid",
      "photoUrl": "",
      "userId": "10469917802715538287"
     },
     "user_tz": -300
    },
    "id": "iLZ_jOUB2uEF",
    "outputId": "2df3dce2-7725-46e0-84f0-d981c8e36b27"
   },
   "outputs": [
    {
     "name": "stdout",
     "output_type": "stream",
     "text": [
      "out.shape :  (507, 6)\n",
      "out.shape :  (2028, 6)\n",
      "0.945689  -  0.9440926  - th :  0.5\n",
      "[0.5114287  0.7788782  0.44254634 0.05557331 0.945689   0.9440926 ]\n",
      "out.shape :  (8112, 6)\n",
      "Done processing !!!\n",
      "Output file is stored as  abarth_yolo_out_py.jpg\n"
     ]
    }
   ],
   "source": [
    "!python object_detection_yolo.py --image=abarth_yolo_out_py.jpg"
   ]
  },
  {
   "cell_type": "code",
   "execution_count": 4,
   "metadata": {
    "colab": {
     "base_uri": "https://localhost:8080/",
     "height": 102
    },
    "colab_type": "code",
    "executionInfo": {
     "elapsed": 5429,
     "status": "ok",
     "timestamp": 1597356963887,
     "user": {
      "displayName": "Muhammad Navaid",
      "photoUrl": "",
      "userId": "10469917802715538287"
     },
     "user_tz": -300
    },
    "id": "3PtHmbCN4wbc",
    "outputId": "a5c9b38e-ff0b-4fe5-a7f6-71375719d2b2"
   },
   "outputs": [
    {
     "name": "stdout",
     "output_type": "stream",
     "text": [
      "out.shape :  (507, 6)\n",
      "out.shape :  (2028, 6)\n",
      "out.shape :  (8112, 6)\n",
      "Done processing !!!\n",
      "Output file is stored as  car9_yolo_out_py.jpg\n"
     ]
    }
   ],
   "source": [
    "!python object_detection_yolo.py --image=car9.jpg"
   ]
  },
  {
   "cell_type": "code",
   "execution_count": 7,
   "metadata": {
    "colab": {
     "base_uri": "https://localhost:8080/",
     "height": 34
    },
    "colab_type": "code",
    "executionInfo": {
     "elapsed": 6688,
     "status": "ok",
     "timestamp": 1597349832578,
     "user": {
      "displayName": "Muhammad Navaid",
      "photoUrl": "",
      "userId": "10469917802715538287"
     },
     "user_tz": -300
    },
    "id": "qSEhXL7tcjVE",
    "outputId": "7c50e157-8352-4be2-c877-5d8ea27196c1"
   },
   "outputs": [],
   "source": [
    "#!python object_detection_yolo.py --video=cars.mp4"
   ]
  },
  {
   "cell_type": "code",
   "execution_count": null,
   "metadata": {
    "colab": {},
    "colab_type": "code",
    "id": "g4oAREExeAzf"
   },
   "outputs": [],
   "source": []
  }
 ],
 "metadata": {
  "colab": {
   "authorship_tag": "ABX9TyNCZx1RBrMILWRq5xyJ1Myf",
   "collapsed_sections": [],
   "mount_file_id": "1-VZue9Prne0Gl6lbObWqhiLXboTdscyS",
   "name": "number-plate-detection.ipynb",
   "provenance": []
  },
  "kernelspec": {
   "display_name": "Python 3",
   "language": "python",
   "name": "python3"
  },
  "language_info": {
   "codemirror_mode": {
    "name": "ipython",
    "version": 3
   },
   "file_extension": ".py",
   "mimetype": "text/x-python",
   "name": "python",
   "nbconvert_exporter": "python",
   "pygments_lexer": "ipython3",
   "version": "3.8.3"
  }
 },
 "nbformat": 4,
 "nbformat_minor": 1
}
